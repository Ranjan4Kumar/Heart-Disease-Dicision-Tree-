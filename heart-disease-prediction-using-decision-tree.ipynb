{
 "cells": [
  {
   "cell_type": "code",
   "execution_count": 1,
   "id": "d5a04737",
   "metadata": {
    "_cell_guid": "b1076dfc-b9ad-4769-8c92-a6c4dae69d19",
    "_uuid": "8f2839f25d086af736a60e9eeb907d3b93b6e0e5",
    "execution": {
     "iopub.execute_input": "2022-10-28T13:30:49.347633Z",
     "iopub.status.busy": "2022-10-28T13:30:49.346585Z",
     "iopub.status.idle": "2022-10-28T13:30:50.500878Z",
     "shell.execute_reply": "2022-10-28T13:30:50.499424Z"
    },
    "papermill": {
     "duration": 1.166773,
     "end_time": "2022-10-28T13:30:50.504034",
     "exception": false,
     "start_time": "2022-10-28T13:30:49.337261",
     "status": "completed"
    },
    "tags": []
   },
   "outputs": [],
   "source": [
    "import numpy as np\n",
    "import pandas as pd\n",
    "import seaborn as sns\n",
    "import matplotlib.pyplot as plt"
   ]
  },
  {
   "cell_type": "code",
   "execution_count": 2,
   "id": "531ffaad",
   "metadata": {
    "execution": {
     "iopub.execute_input": "2022-10-28T13:30:50.519081Z",
     "iopub.status.busy": "2022-10-28T13:30:50.518621Z",
     "iopub.status.idle": "2022-10-28T13:30:50.543422Z",
     "shell.execute_reply": "2022-10-28T13:30:50.542248Z"
    },
    "papermill": {
     "duration": 0.036153,
     "end_time": "2022-10-28T13:30:50.546840",
     "exception": false,
     "start_time": "2022-10-28T13:30:50.510687",
     "status": "completed"
    },
    "tags": []
   },
   "outputs": [],
   "source": [
    "data=pd.read_csv('../input/heart-attack-analysis-prediction-dataset/heart.csv')"
   ]
  },
  {
   "cell_type": "code",
   "execution_count": 3,
   "id": "b9c0a942",
   "metadata": {
    "execution": {
     "iopub.execute_input": "2022-10-28T13:30:50.561574Z",
     "iopub.status.busy": "2022-10-28T13:30:50.561095Z",
     "iopub.status.idle": "2022-10-28T13:30:50.590134Z",
     "shell.execute_reply": "2022-10-28T13:30:50.588876Z"
    },
    "papermill": {
     "duration": 0.039721,
     "end_time": "2022-10-28T13:30:50.593030",
     "exception": false,
     "start_time": "2022-10-28T13:30:50.553309",
     "status": "completed"
    },
    "tags": []
   },
   "outputs": [
    {
     "name": "stdout",
     "output_type": "stream",
     "text": [
      "<class 'pandas.core.frame.DataFrame'>\n",
      "RangeIndex: 303 entries, 0 to 302\n",
      "Data columns (total 14 columns):\n",
      " #   Column    Non-Null Count  Dtype  \n",
      "---  ------    --------------  -----  \n",
      " 0   age       303 non-null    int64  \n",
      " 1   sex       303 non-null    int64  \n",
      " 2   cp        303 non-null    int64  \n",
      " 3   trtbps    303 non-null    int64  \n",
      " 4   chol      303 non-null    int64  \n",
      " 5   fbs       303 non-null    int64  \n",
      " 6   restecg   303 non-null    int64  \n",
      " 7   thalachh  303 non-null    int64  \n",
      " 8   exng      303 non-null    int64  \n",
      " 9   oldpeak   303 non-null    float64\n",
      " 10  slp       303 non-null    int64  \n",
      " 11  caa       303 non-null    int64  \n",
      " 12  thall     303 non-null    int64  \n",
      " 13  output    303 non-null    int64  \n",
      "dtypes: float64(1), int64(13)\n",
      "memory usage: 33.3 KB\n"
     ]
    }
   ],
   "source": [
    "data.info()   #checking the info"
   ]
  },
  {
   "cell_type": "code",
   "execution_count": 4,
   "id": "2c18bc86",
   "metadata": {
    "execution": {
     "iopub.execute_input": "2022-10-28T13:30:50.607707Z",
     "iopub.status.busy": "2022-10-28T13:30:50.607269Z",
     "iopub.status.idle": "2022-10-28T13:30:50.614932Z",
     "shell.execute_reply": "2022-10-28T13:30:50.614089Z"
    },
    "papermill": {
     "duration": 0.017953,
     "end_time": "2022-10-28T13:30:50.617417",
     "exception": false,
     "start_time": "2022-10-28T13:30:50.599464",
     "status": "completed"
    },
    "tags": []
   },
   "outputs": [],
   "source": [
    "data_corr=data.corr()"
   ]
  },
  {
   "cell_type": "code",
   "execution_count": 5,
   "id": "64f07e28",
   "metadata": {
    "execution": {
     "iopub.execute_input": "2022-10-28T13:30:50.631932Z",
     "iopub.status.busy": "2022-10-28T13:30:50.630730Z",
     "iopub.status.idle": "2022-10-28T13:30:50.662207Z",
     "shell.execute_reply": "2022-10-28T13:30:50.660643Z"
    },
    "papermill": {
     "duration": 0.0416,
     "end_time": "2022-10-28T13:30:50.665101",
     "exception": false,
     "start_time": "2022-10-28T13:30:50.623501",
     "status": "completed"
    },
    "tags": []
   },
   "outputs": [
    {
     "data": {
      "text/html": [
       "<div>\n",
       "<style scoped>\n",
       "    .dataframe tbody tr th:only-of-type {\n",
       "        vertical-align: middle;\n",
       "    }\n",
       "\n",
       "    .dataframe tbody tr th {\n",
       "        vertical-align: top;\n",
       "    }\n",
       "\n",
       "    .dataframe thead th {\n",
       "        text-align: right;\n",
       "    }\n",
       "</style>\n",
       "<table border=\"1\" class=\"dataframe\">\n",
       "  <thead>\n",
       "    <tr style=\"text-align: right;\">\n",
       "      <th></th>\n",
       "      <th>age</th>\n",
       "      <th>sex</th>\n",
       "      <th>cp</th>\n",
       "      <th>trtbps</th>\n",
       "      <th>chol</th>\n",
       "      <th>fbs</th>\n",
       "      <th>restecg</th>\n",
       "      <th>thalachh</th>\n",
       "      <th>exng</th>\n",
       "      <th>oldpeak</th>\n",
       "      <th>slp</th>\n",
       "      <th>caa</th>\n",
       "      <th>thall</th>\n",
       "      <th>output</th>\n",
       "    </tr>\n",
       "  </thead>\n",
       "  <tbody>\n",
       "    <tr>\n",
       "      <th>age</th>\n",
       "      <td>1.000000</td>\n",
       "      <td>-0.098447</td>\n",
       "      <td>-0.068653</td>\n",
       "      <td>0.279351</td>\n",
       "      <td>0.213678</td>\n",
       "      <td>0.121308</td>\n",
       "      <td>-0.116211</td>\n",
       "      <td>-0.398522</td>\n",
       "      <td>0.096801</td>\n",
       "      <td>0.210013</td>\n",
       "      <td>-0.168814</td>\n",
       "      <td>0.276326</td>\n",
       "      <td>0.068001</td>\n",
       "      <td>-0.225439</td>\n",
       "    </tr>\n",
       "    <tr>\n",
       "      <th>sex</th>\n",
       "      <td>-0.098447</td>\n",
       "      <td>1.000000</td>\n",
       "      <td>-0.049353</td>\n",
       "      <td>-0.056769</td>\n",
       "      <td>-0.197912</td>\n",
       "      <td>0.045032</td>\n",
       "      <td>-0.058196</td>\n",
       "      <td>-0.044020</td>\n",
       "      <td>0.141664</td>\n",
       "      <td>0.096093</td>\n",
       "      <td>-0.030711</td>\n",
       "      <td>0.118261</td>\n",
       "      <td>0.210041</td>\n",
       "      <td>-0.280937</td>\n",
       "    </tr>\n",
       "    <tr>\n",
       "      <th>cp</th>\n",
       "      <td>-0.068653</td>\n",
       "      <td>-0.049353</td>\n",
       "      <td>1.000000</td>\n",
       "      <td>0.047608</td>\n",
       "      <td>-0.076904</td>\n",
       "      <td>0.094444</td>\n",
       "      <td>0.044421</td>\n",
       "      <td>0.295762</td>\n",
       "      <td>-0.394280</td>\n",
       "      <td>-0.149230</td>\n",
       "      <td>0.119717</td>\n",
       "      <td>-0.181053</td>\n",
       "      <td>-0.161736</td>\n",
       "      <td>0.433798</td>\n",
       "    </tr>\n",
       "    <tr>\n",
       "      <th>trtbps</th>\n",
       "      <td>0.279351</td>\n",
       "      <td>-0.056769</td>\n",
       "      <td>0.047608</td>\n",
       "      <td>1.000000</td>\n",
       "      <td>0.123174</td>\n",
       "      <td>0.177531</td>\n",
       "      <td>-0.114103</td>\n",
       "      <td>-0.046698</td>\n",
       "      <td>0.067616</td>\n",
       "      <td>0.193216</td>\n",
       "      <td>-0.121475</td>\n",
       "      <td>0.101389</td>\n",
       "      <td>0.062210</td>\n",
       "      <td>-0.144931</td>\n",
       "    </tr>\n",
       "    <tr>\n",
       "      <th>chol</th>\n",
       "      <td>0.213678</td>\n",
       "      <td>-0.197912</td>\n",
       "      <td>-0.076904</td>\n",
       "      <td>0.123174</td>\n",
       "      <td>1.000000</td>\n",
       "      <td>0.013294</td>\n",
       "      <td>-0.151040</td>\n",
       "      <td>-0.009940</td>\n",
       "      <td>0.067023</td>\n",
       "      <td>0.053952</td>\n",
       "      <td>-0.004038</td>\n",
       "      <td>0.070511</td>\n",
       "      <td>0.098803</td>\n",
       "      <td>-0.085239</td>\n",
       "    </tr>\n",
       "    <tr>\n",
       "      <th>fbs</th>\n",
       "      <td>0.121308</td>\n",
       "      <td>0.045032</td>\n",
       "      <td>0.094444</td>\n",
       "      <td>0.177531</td>\n",
       "      <td>0.013294</td>\n",
       "      <td>1.000000</td>\n",
       "      <td>-0.084189</td>\n",
       "      <td>-0.008567</td>\n",
       "      <td>0.025665</td>\n",
       "      <td>0.005747</td>\n",
       "      <td>-0.059894</td>\n",
       "      <td>0.137979</td>\n",
       "      <td>-0.032019</td>\n",
       "      <td>-0.028046</td>\n",
       "    </tr>\n",
       "    <tr>\n",
       "      <th>restecg</th>\n",
       "      <td>-0.116211</td>\n",
       "      <td>-0.058196</td>\n",
       "      <td>0.044421</td>\n",
       "      <td>-0.114103</td>\n",
       "      <td>-0.151040</td>\n",
       "      <td>-0.084189</td>\n",
       "      <td>1.000000</td>\n",
       "      <td>0.044123</td>\n",
       "      <td>-0.070733</td>\n",
       "      <td>-0.058770</td>\n",
       "      <td>0.093045</td>\n",
       "      <td>-0.072042</td>\n",
       "      <td>-0.011981</td>\n",
       "      <td>0.137230</td>\n",
       "    </tr>\n",
       "    <tr>\n",
       "      <th>thalachh</th>\n",
       "      <td>-0.398522</td>\n",
       "      <td>-0.044020</td>\n",
       "      <td>0.295762</td>\n",
       "      <td>-0.046698</td>\n",
       "      <td>-0.009940</td>\n",
       "      <td>-0.008567</td>\n",
       "      <td>0.044123</td>\n",
       "      <td>1.000000</td>\n",
       "      <td>-0.378812</td>\n",
       "      <td>-0.344187</td>\n",
       "      <td>0.386784</td>\n",
       "      <td>-0.213177</td>\n",
       "      <td>-0.096439</td>\n",
       "      <td>0.421741</td>\n",
       "    </tr>\n",
       "    <tr>\n",
       "      <th>exng</th>\n",
       "      <td>0.096801</td>\n",
       "      <td>0.141664</td>\n",
       "      <td>-0.394280</td>\n",
       "      <td>0.067616</td>\n",
       "      <td>0.067023</td>\n",
       "      <td>0.025665</td>\n",
       "      <td>-0.070733</td>\n",
       "      <td>-0.378812</td>\n",
       "      <td>1.000000</td>\n",
       "      <td>0.288223</td>\n",
       "      <td>-0.257748</td>\n",
       "      <td>0.115739</td>\n",
       "      <td>0.206754</td>\n",
       "      <td>-0.436757</td>\n",
       "    </tr>\n",
       "    <tr>\n",
       "      <th>oldpeak</th>\n",
       "      <td>0.210013</td>\n",
       "      <td>0.096093</td>\n",
       "      <td>-0.149230</td>\n",
       "      <td>0.193216</td>\n",
       "      <td>0.053952</td>\n",
       "      <td>0.005747</td>\n",
       "      <td>-0.058770</td>\n",
       "      <td>-0.344187</td>\n",
       "      <td>0.288223</td>\n",
       "      <td>1.000000</td>\n",
       "      <td>-0.577537</td>\n",
       "      <td>0.222682</td>\n",
       "      <td>0.210244</td>\n",
       "      <td>-0.430696</td>\n",
       "    </tr>\n",
       "    <tr>\n",
       "      <th>slp</th>\n",
       "      <td>-0.168814</td>\n",
       "      <td>-0.030711</td>\n",
       "      <td>0.119717</td>\n",
       "      <td>-0.121475</td>\n",
       "      <td>-0.004038</td>\n",
       "      <td>-0.059894</td>\n",
       "      <td>0.093045</td>\n",
       "      <td>0.386784</td>\n",
       "      <td>-0.257748</td>\n",
       "      <td>-0.577537</td>\n",
       "      <td>1.000000</td>\n",
       "      <td>-0.080155</td>\n",
       "      <td>-0.104764</td>\n",
       "      <td>0.345877</td>\n",
       "    </tr>\n",
       "    <tr>\n",
       "      <th>caa</th>\n",
       "      <td>0.276326</td>\n",
       "      <td>0.118261</td>\n",
       "      <td>-0.181053</td>\n",
       "      <td>0.101389</td>\n",
       "      <td>0.070511</td>\n",
       "      <td>0.137979</td>\n",
       "      <td>-0.072042</td>\n",
       "      <td>-0.213177</td>\n",
       "      <td>0.115739</td>\n",
       "      <td>0.222682</td>\n",
       "      <td>-0.080155</td>\n",
       "      <td>1.000000</td>\n",
       "      <td>0.151832</td>\n",
       "      <td>-0.391724</td>\n",
       "    </tr>\n",
       "    <tr>\n",
       "      <th>thall</th>\n",
       "      <td>0.068001</td>\n",
       "      <td>0.210041</td>\n",
       "      <td>-0.161736</td>\n",
       "      <td>0.062210</td>\n",
       "      <td>0.098803</td>\n",
       "      <td>-0.032019</td>\n",
       "      <td>-0.011981</td>\n",
       "      <td>-0.096439</td>\n",
       "      <td>0.206754</td>\n",
       "      <td>0.210244</td>\n",
       "      <td>-0.104764</td>\n",
       "      <td>0.151832</td>\n",
       "      <td>1.000000</td>\n",
       "      <td>-0.344029</td>\n",
       "    </tr>\n",
       "    <tr>\n",
       "      <th>output</th>\n",
       "      <td>-0.225439</td>\n",
       "      <td>-0.280937</td>\n",
       "      <td>0.433798</td>\n",
       "      <td>-0.144931</td>\n",
       "      <td>-0.085239</td>\n",
       "      <td>-0.028046</td>\n",
       "      <td>0.137230</td>\n",
       "      <td>0.421741</td>\n",
       "      <td>-0.436757</td>\n",
       "      <td>-0.430696</td>\n",
       "      <td>0.345877</td>\n",
       "      <td>-0.391724</td>\n",
       "      <td>-0.344029</td>\n",
       "      <td>1.000000</td>\n",
       "    </tr>\n",
       "  </tbody>\n",
       "</table>\n",
       "</div>"
      ],
      "text/plain": [
       "               age       sex        cp    trtbps      chol       fbs  \\\n",
       "age       1.000000 -0.098447 -0.068653  0.279351  0.213678  0.121308   \n",
       "sex      -0.098447  1.000000 -0.049353 -0.056769 -0.197912  0.045032   \n",
       "cp       -0.068653 -0.049353  1.000000  0.047608 -0.076904  0.094444   \n",
       "trtbps    0.279351 -0.056769  0.047608  1.000000  0.123174  0.177531   \n",
       "chol      0.213678 -0.197912 -0.076904  0.123174  1.000000  0.013294   \n",
       "fbs       0.121308  0.045032  0.094444  0.177531  0.013294  1.000000   \n",
       "restecg  -0.116211 -0.058196  0.044421 -0.114103 -0.151040 -0.084189   \n",
       "thalachh -0.398522 -0.044020  0.295762 -0.046698 -0.009940 -0.008567   \n",
       "exng      0.096801  0.141664 -0.394280  0.067616  0.067023  0.025665   \n",
       "oldpeak   0.210013  0.096093 -0.149230  0.193216  0.053952  0.005747   \n",
       "slp      -0.168814 -0.030711  0.119717 -0.121475 -0.004038 -0.059894   \n",
       "caa       0.276326  0.118261 -0.181053  0.101389  0.070511  0.137979   \n",
       "thall     0.068001  0.210041 -0.161736  0.062210  0.098803 -0.032019   \n",
       "output   -0.225439 -0.280937  0.433798 -0.144931 -0.085239 -0.028046   \n",
       "\n",
       "           restecg  thalachh      exng   oldpeak       slp       caa  \\\n",
       "age      -0.116211 -0.398522  0.096801  0.210013 -0.168814  0.276326   \n",
       "sex      -0.058196 -0.044020  0.141664  0.096093 -0.030711  0.118261   \n",
       "cp        0.044421  0.295762 -0.394280 -0.149230  0.119717 -0.181053   \n",
       "trtbps   -0.114103 -0.046698  0.067616  0.193216 -0.121475  0.101389   \n",
       "chol     -0.151040 -0.009940  0.067023  0.053952 -0.004038  0.070511   \n",
       "fbs      -0.084189 -0.008567  0.025665  0.005747 -0.059894  0.137979   \n",
       "restecg   1.000000  0.044123 -0.070733 -0.058770  0.093045 -0.072042   \n",
       "thalachh  0.044123  1.000000 -0.378812 -0.344187  0.386784 -0.213177   \n",
       "exng     -0.070733 -0.378812  1.000000  0.288223 -0.257748  0.115739   \n",
       "oldpeak  -0.058770 -0.344187  0.288223  1.000000 -0.577537  0.222682   \n",
       "slp       0.093045  0.386784 -0.257748 -0.577537  1.000000 -0.080155   \n",
       "caa      -0.072042 -0.213177  0.115739  0.222682 -0.080155  1.000000   \n",
       "thall    -0.011981 -0.096439  0.206754  0.210244 -0.104764  0.151832   \n",
       "output    0.137230  0.421741 -0.436757 -0.430696  0.345877 -0.391724   \n",
       "\n",
       "             thall    output  \n",
       "age       0.068001 -0.225439  \n",
       "sex       0.210041 -0.280937  \n",
       "cp       -0.161736  0.433798  \n",
       "trtbps    0.062210 -0.144931  \n",
       "chol      0.098803 -0.085239  \n",
       "fbs      -0.032019 -0.028046  \n",
       "restecg  -0.011981  0.137230  \n",
       "thalachh -0.096439  0.421741  \n",
       "exng      0.206754 -0.436757  \n",
       "oldpeak   0.210244 -0.430696  \n",
       "slp      -0.104764  0.345877  \n",
       "caa       0.151832 -0.391724  \n",
       "thall     1.000000 -0.344029  \n",
       "output   -0.344029  1.000000  "
      ]
     },
     "execution_count": 5,
     "metadata": {},
     "output_type": "execute_result"
    }
   ],
   "source": [
    "data_corr   #correalation of variables"
   ]
  },
  {
   "cell_type": "code",
   "execution_count": 6,
   "id": "3285ef88",
   "metadata": {
    "execution": {
     "iopub.execute_input": "2022-10-28T13:30:50.680055Z",
     "iopub.status.busy": "2022-10-28T13:30:50.679679Z",
     "iopub.status.idle": "2022-10-28T13:30:52.119557Z",
     "shell.execute_reply": "2022-10-28T13:30:52.118201Z"
    },
    "papermill": {
     "duration": 1.450666,
     "end_time": "2022-10-28T13:30:52.122430",
     "exception": false,
     "start_time": "2022-10-28T13:30:50.671764",
     "status": "completed"
    },
    "tags": []
   },
   "outputs": [
    {
     "data": {
      "text/plain": [
       "<AxesSubplot:>"
      ]
     },
     "execution_count": 6,
     "metadata": {},
     "output_type": "execute_result"
    },
    {
     "data": {
      "image/png": "[encoded data removed]",
      "text/plain": [
       "<Figure size 1440x1440 with 2 Axes>"
      ]
     },
     "metadata": {
      "needs_background": "light"
     },
     "output_type": "display_data"
    }
   ],
   "source": [
    "plt.figure(figsize=(20,20))\n",
    "sns.heatmap(data=data_corr,annot=True)\n",
    "#Heatmap for data"
   ]
  },
  {
   "cell_type": "code",
   "execution_count": 7,
   "id": "2784df0d",
   "metadata": {
    "execution": {
     "iopub.execute_input": "2022-10-28T13:30:52.141981Z",
     "iopub.status.busy": "2022-10-28T13:30:52.140658Z",
     "iopub.status.idle": "2022-10-28T13:30:52.149512Z",
     "shell.execute_reply": "2022-10-28T13:30:52.148651Z"
    },
    "papermill": {
     "duration": 0.020699,
     "end_time": "2022-10-28T13:30:52.151543",
     "exception": false,
     "start_time": "2022-10-28T13:30:52.130844",
     "status": "completed"
    },
    "tags": []
   },
   "outputs": [
    {
     "data": {
      "text/plain": [
       "array([0.22543872, 0.28093658, 0.43379826, 0.14493113, 0.08523911,\n",
       "       0.02804576, 0.1372295 , 0.42174093, 0.43675708, 0.430696  ,\n",
       "       0.34587708, 0.39172399, 0.34402927, 1.        ])"
      ]
     },
     "execution_count": 7,
     "metadata": {},
     "output_type": "execute_result"
    }
   ],
   "source": [
    "feature_value=np.array(data_corr['output'])\n",
    "for i in range(len(feature_value)):\n",
    "    if feature_value[i]<0:\n",
    "        feature_value[i]=-feature_value[i]\n",
    "feature_value"
   ]
  },
  {
   "cell_type": "code",
   "execution_count": 8,
   "id": "6a4d2e46",
   "metadata": {
    "execution": {
     "iopub.execute_input": "2022-10-28T13:30:52.172660Z",
     "iopub.status.busy": "2022-10-28T13:30:52.171406Z",
     "iopub.status.idle": "2022-10-28T13:30:52.177645Z",
     "shell.execute_reply": "2022-10-28T13:30:52.176848Z"
    },
    "papermill": {
     "duration": 0.020239,
     "end_time": "2022-10-28T13:30:52.180099",
     "exception": false,
     "start_time": "2022-10-28T13:30:52.159860",
     "status": "completed"
    },
    "tags": []
   },
   "outputs": [],
   "source": [
    "features_corr=pd.DataFrame(feature_value,index=data_corr['output'].index,columns=['correalation'])"
   ]
  },
  {
   "cell_type": "code",
   "execution_count": 9,
   "id": "92017484",
   "metadata": {
    "execution": {
     "iopub.execute_input": "2022-10-28T13:30:52.200014Z",
     "iopub.status.busy": "2022-10-28T13:30:52.199610Z",
     "iopub.status.idle": "2022-10-28T13:30:52.207630Z",
     "shell.execute_reply": "2022-10-28T13:30:52.206222Z"
    },
    "papermill": {
     "duration": 0.021009,
     "end_time": "2022-10-28T13:30:52.210197",
     "exception": false,
     "start_time": "2022-10-28T13:30:52.189188",
     "status": "completed"
    },
    "tags": []
   },
   "outputs": [],
   "source": [
    "feature_sorted=features_corr.sort_values(by=['correalation'],ascending=False)"
   ]
  },
  {
   "cell_type": "code",
   "execution_count": 10,
   "id": "93102b6c",
   "metadata": {
    "execution": {
     "iopub.execute_input": "2022-10-28T13:30:52.229746Z",
     "iopub.status.busy": "2022-10-28T13:30:52.229321Z",
     "iopub.status.idle": "2022-10-28T13:30:52.241512Z",
     "shell.execute_reply": "2022-10-28T13:30:52.240172Z"
    },
    "papermill": {
     "duration": 0.024795,
     "end_time": "2022-10-28T13:30:52.244069",
     "exception": false,
     "start_time": "2022-10-28T13:30:52.219274",
     "status": "completed"
    },
    "tags": []
   },
   "outputs": [
    {
     "data": {
      "text/html": [
       "<div>\n",
       "<style scoped>\n",
       "    .dataframe tbody tr th:only-of-type {\n",
       "        vertical-align: middle;\n",
       "    }\n",
       "\n",
       "    .dataframe tbody tr th {\n",
       "        vertical-align: top;\n",
       "    }\n",
       "\n",
       "    .dataframe thead th {\n",
       "        text-align: right;\n",
       "    }\n",
       "</style>\n",
       "<table border=\"1\" class=\"dataframe\">\n",
       "  <thead>\n",
       "    <tr style=\"text-align: right;\">\n",
       "      <th></th>\n",
       "      <th>correalation</th>\n",
       "    </tr>\n",
       "  </thead>\n",
       "  <tbody>\n",
       "    <tr>\n",
       "      <th>output</th>\n",
       "      <td>1.000000</td>\n",
       "    </tr>\n",
       "    <tr>\n",
       "      <th>exng</th>\n",
       "      <td>0.436757</td>\n",
       "    </tr>\n",
       "    <tr>\n",
       "      <th>cp</th>\n",
       "      <td>0.433798</td>\n",
       "    </tr>\n",
       "    <tr>\n",
       "      <th>oldpeak</th>\n",
       "      <td>0.430696</td>\n",
       "    </tr>\n",
       "    <tr>\n",
       "      <th>thalachh</th>\n",
       "      <td>0.421741</td>\n",
       "    </tr>\n",
       "    <tr>\n",
       "      <th>caa</th>\n",
       "      <td>0.391724</td>\n",
       "    </tr>\n",
       "    <tr>\n",
       "      <th>slp</th>\n",
       "      <td>0.345877</td>\n",
       "    </tr>\n",
       "    <tr>\n",
       "      <th>thall</th>\n",
       "      <td>0.344029</td>\n",
       "    </tr>\n",
       "    <tr>\n",
       "      <th>sex</th>\n",
       "      <td>0.280937</td>\n",
       "    </tr>\n",
       "    <tr>\n",
       "      <th>age</th>\n",
       "      <td>0.225439</td>\n",
       "    </tr>\n",
       "    <tr>\n",
       "      <th>trtbps</th>\n",
       "      <td>0.144931</td>\n",
       "    </tr>\n",
       "    <tr>\n",
       "      <th>restecg</th>\n",
       "      <td>0.137230</td>\n",
       "    </tr>\n",
       "    <tr>\n",
       "      <th>chol</th>\n",
       "      <td>0.085239</td>\n",
       "    </tr>\n",
       "    <tr>\n",
       "      <th>fbs</th>\n",
       "      <td>0.028046</td>\n",
       "    </tr>\n",
       "  </tbody>\n",
       "</table>\n",
       "</div>"
      ],
      "text/plain": [
       "          correalation\n",
       "output        1.000000\n",
       "exng          0.436757\n",
       "cp            0.433798\n",
       "oldpeak       0.430696\n",
       "thalachh      0.421741\n",
       "caa           0.391724\n",
       "slp           0.345877\n",
       "thall         0.344029\n",
       "sex           0.280937\n",
       "age           0.225439\n",
       "trtbps        0.144931\n",
       "restecg       0.137230\n",
       "chol          0.085239\n",
       "fbs           0.028046"
      ]
     },
     "execution_count": 10,
     "metadata": {},
     "output_type": "execute_result"
    }
   ],
   "source": [
    "feature_sorted"
   ]
  },
  {
   "cell_type": "code",
   "execution_count": 11,
   "id": "c374ef18",
   "metadata": {
    "execution": {
     "iopub.execute_input": "2022-10-28T13:30:52.264277Z",
     "iopub.status.busy": "2022-10-28T13:30:52.263834Z",
     "iopub.status.idle": "2022-10-28T13:30:52.269214Z",
     "shell.execute_reply": "2022-10-28T13:30:52.268020Z"
    },
    "papermill": {
     "duration": 0.01842,
     "end_time": "2022-10-28T13:30:52.271673",
     "exception": false,
     "start_time": "2022-10-28T13:30:52.253253",
     "status": "completed"
    },
    "tags": []
   },
   "outputs": [],
   "source": [
    "feature_selected=feature_sorted.index"
   ]
  },
  {
   "cell_type": "code",
   "execution_count": 12,
   "id": "62ad4e3f",
   "metadata": {
    "execution": {
     "iopub.execute_input": "2022-10-28T13:30:52.291650Z",
     "iopub.status.busy": "2022-10-28T13:30:52.291252Z",
     "iopub.status.idle": "2022-10-28T13:30:52.298896Z",
     "shell.execute_reply": "2022-10-28T13:30:52.297681Z"
    },
    "papermill": {
     "duration": 0.019977,
     "end_time": "2022-10-28T13:30:52.301109",
     "exception": false,
     "start_time": "2022-10-28T13:30:52.281132",
     "status": "completed"
    },
    "tags": []
   },
   "outputs": [
    {
     "data": {
      "text/plain": [
       "Index(['output', 'exng', 'cp', 'oldpeak', 'thalachh', 'caa', 'slp', 'thall',\n",
       "       'sex', 'age', 'trtbps', 'restecg', 'chol', 'fbs'],\n",
       "      dtype='object')"
      ]
     },
     "execution_count": 12,
     "metadata": {},
     "output_type": "execute_result"
    }
   ],
   "source": [
    "feature_selected     #selected features which are very much correalated"
   ]
  },
  {
   "cell_type": "code",
   "execution_count": 13,
   "id": "55ecf736",
   "metadata": {
    "execution": {
     "iopub.execute_input": "2022-10-28T13:30:52.320086Z",
     "iopub.status.busy": "2022-10-28T13:30:52.319700Z",
     "iopub.status.idle": "2022-10-28T13:30:52.325642Z",
     "shell.execute_reply": "2022-10-28T13:30:52.324434Z"
    },
    "papermill": {
     "duration": 0.017895,
     "end_time": "2022-10-28T13:30:52.327698",
     "exception": false,
     "start_time": "2022-10-28T13:30:52.309803",
     "status": "completed"
    },
    "tags": []
   },
   "outputs": [],
   "source": [
    "clean_data=data[feature_selected]"
   ]
  },
  {
   "cell_type": "code",
   "execution_count": 14,
   "id": "0f8f0698",
   "metadata": {
    "execution": {
     "iopub.execute_input": "2022-10-28T13:30:52.346781Z",
     "iopub.status.busy": "2022-10-28T13:30:52.346421Z",
     "iopub.status.idle": "2022-10-28T13:30:52.696807Z",
     "shell.execute_reply": "2022-10-28T13:30:52.695680Z"
    },
    "papermill": {
     "duration": 0.363169,
     "end_time": "2022-10-28T13:30:52.699577",
     "exception": false,
     "start_time": "2022-10-28T13:30:52.336408",
     "status": "completed"
    },
    "tags": []
   },
   "outputs": [],
   "source": [
    "from sklearn.tree import DecisionTreeClassifier                  #using sklearn decisiontreeclassifier\n",
    "from sklearn.model_selection import train_test_split"
   ]
  },
  {
   "cell_type": "code",
   "execution_count": 15,
   "id": "8d39b35e",
   "metadata": {
    "execution": {
     "iopub.execute_input": "2022-10-28T13:30:52.719646Z",
     "iopub.status.busy": "2022-10-28T13:30:52.718958Z",
     "iopub.status.idle": "2022-10-28T13:30:52.725540Z",
     "shell.execute_reply": "2022-10-28T13:30:52.724369Z"
    },
    "papermill": {
     "duration": 0.019029,
     "end_time": "2022-10-28T13:30:52.727885",
     "exception": false,
     "start_time": "2022-10-28T13:30:52.708856",
     "status": "completed"
    },
    "tags": []
   },
   "outputs": [],
   "source": [
    "#making input and output dataset\n",
    "X=clean_data.iloc[:,1:]\n",
    "Y=clean_data['output']"
   ]
  },
  {
   "cell_type": "code",
   "execution_count": 16,
   "id": "97558662",
   "metadata": {
    "execution": {
     "iopub.execute_input": "2022-10-28T13:30:52.747816Z",
     "iopub.status.busy": "2022-10-28T13:30:52.747417Z",
     "iopub.status.idle": "2022-10-28T13:30:52.755361Z",
     "shell.execute_reply": "2022-10-28T13:30:52.754190Z"
    },
    "papermill": {
     "duration": 0.02105,
     "end_time": "2022-10-28T13:30:52.757773",
     "exception": false,
     "start_time": "2022-10-28T13:30:52.736723",
     "status": "completed"
    },
    "tags": []
   },
   "outputs": [],
   "source": [
    "x_train,x_test,y_train,y_test=train_test_split(X,Y,test_size=0.25,random_state=0)"
   ]
  },
  {
   "cell_type": "code",
   "execution_count": 17,
   "id": "623c339e",
   "metadata": {
    "execution": {
     "iopub.execute_input": "2022-10-28T13:30:52.777631Z",
     "iopub.status.busy": "2022-10-28T13:30:52.777222Z",
     "iopub.status.idle": "2022-10-28T13:30:52.783432Z",
     "shell.execute_reply": "2022-10-28T13:30:52.782114Z"
    },
    "papermill": {
     "duration": 0.018584,
     "end_time": "2022-10-28T13:30:52.785601",
     "exception": false,
     "start_time": "2022-10-28T13:30:52.767017",
     "status": "completed"
    },
    "tags": []
   },
   "outputs": [
    {
     "name": "stdout",
     "output_type": "stream",
     "text": [
      "(227, 13) (227,) (76, 13) (76,)\n"
     ]
    }
   ],
   "source": [
    "print(x_train.shape,y_train.shape,x_test.shape,y_test.shape)     #data is splited in traing and testing dataset"
   ]
  },
  {
   "cell_type": "code",
   "execution_count": 18,
   "id": "0ef2ce43",
   "metadata": {
    "execution": {
     "iopub.execute_input": "2022-10-28T13:30:52.805533Z",
     "iopub.status.busy": "2022-10-28T13:30:52.805090Z",
     "iopub.status.idle": "2022-10-28T13:30:52.818201Z",
     "shell.execute_reply": "2022-10-28T13:30:52.817189Z"
    },
    "papermill": {
     "duration": 0.025716,
     "end_time": "2022-10-28T13:30:52.820615",
     "exception": false,
     "start_time": "2022-10-28T13:30:52.794899",
     "status": "completed"
    },
    "tags": []
   },
   "outputs": [],
   "source": [
    "# feature scaling\n",
    "from sklearn.preprocessing import StandardScaler\n",
    "sc=StandardScaler()\n",
    "x_train=sc.fit_transform(x_train)\n",
    "x_test=sc.transform(x_test)"
   ]
  },
  {
   "cell_type": "code",
   "execution_count": 19,
   "id": "675cf6f9",
   "metadata": {
    "execution": {
     "iopub.execute_input": "2022-10-28T13:30:52.840003Z",
     "iopub.status.busy": "2022-10-28T13:30:52.839596Z",
     "iopub.status.idle": "2022-10-28T13:30:52.850908Z",
     "shell.execute_reply": "2022-10-28T13:30:52.849877Z"
    },
    "papermill": {
     "duration": 0.02372,
     "end_time": "2022-10-28T13:30:52.853206",
     "exception": false,
     "start_time": "2022-10-28T13:30:52.829486",
     "status": "completed"
    },
    "tags": []
   },
   "outputs": [
    {
     "data": {
      "text/plain": [
       "DecisionTreeClassifier(criterion='entropy', max_depth=6)"
      ]
     },
     "execution_count": 19,
     "metadata": {},
     "output_type": "execute_result"
    }
   ],
   "source": [
    "#training our model\n",
    "dt=DecisionTreeClassifier(criterion='entropy',max_depth=6)\n",
    "dt.fit(x_train,y_train)"
   ]
  },
  {
   "cell_type": "code",
   "execution_count": 20,
   "id": "f42b42d5",
   "metadata": {
    "execution": {
     "iopub.execute_input": "2022-10-28T13:30:52.872795Z",
     "iopub.status.busy": "2022-10-28T13:30:52.872400Z",
     "iopub.status.idle": "2022-10-28T13:30:52.878102Z",
     "shell.execute_reply": "2022-10-28T13:30:52.877007Z"
    },
    "papermill": {
     "duration": 0.018377,
     "end_time": "2022-10-28T13:30:52.880547",
     "exception": false,
     "start_time": "2022-10-28T13:30:52.862170",
     "status": "completed"
    },
    "tags": []
   },
   "outputs": [],
   "source": [
    "#predicting the value on testing data\n",
    "y_pred=dt.predict(x_test)"
   ]
  },
  {
   "cell_type": "code",
   "execution_count": 21,
   "id": "2adede7e",
   "metadata": {
    "execution": {
     "iopub.execute_input": "2022-10-28T13:30:52.900082Z",
     "iopub.status.busy": "2022-10-28T13:30:52.899671Z",
     "iopub.status.idle": "2022-10-28T13:30:52.910793Z",
     "shell.execute_reply": "2022-10-28T13:30:52.909616Z"
    },
    "papermill": {
     "duration": 0.023379,
     "end_time": "2022-10-28T13:30:52.913042",
     "exception": false,
     "start_time": "2022-10-28T13:30:52.889663",
     "status": "completed"
    },
    "tags": []
   },
   "outputs": [
    {
     "name": "stdout",
     "output_type": "stream",
     "text": [
      "[[24  9]\n",
      " [ 3 40]]\n",
      "\n",
      "The accuracy of decisiontreelassifier on Heart disease prediction dataset is 84.21%\n"
     ]
    }
   ],
   "source": [
    "#ploting the data\n",
    "from sklearn.metrics import confusion_matrix\n",
    "conf_mat=confusion_matrix(y_test,y_pred)\n",
    "print(conf_mat)\n",
    "accuracy=dt.score(x_test,y_test)\n",
    "print(\"\\nThe accuracy of decisiontreelassifier on Heart disease prediction dataset is \"+str(round(accuracy*100,2))+\"%\")"
   ]
  },
  {
   "cell_type": "code",
   "execution_count": null,
   "id": "0ad4a8d3",
   "metadata": {
    "papermill": {
     "duration": 0.008612,
     "end_time": "2022-10-28T13:30:52.930609",
     "exception": false,
     "start_time": "2022-10-28T13:30:52.921997",
     "status": "completed"
    },
    "tags": []
   },
   "outputs": [],
   "source": []
  },
  {
   "cell_type": "code",
   "execution_count": null,
   "id": "5ac28242",
   "metadata": {
    "papermill": {
     "duration": 0.008688,
     "end_time": "2022-10-28T13:30:52.948279",
     "exception": false,
     "start_time": "2022-10-28T13:30:52.939591",
     "status": "completed"
    },
    "tags": []
   },
   "outputs": [],
   "source": []
  }
 ],
 "metadata": {
  "kernelspec": {
   "display_name": "Python 3",
   "language": "python",
   "name": "python3"
  },
  "language_info": {
   "codemirror_mode": {
    "name": "ipython",
    "version": 3
   },
   "file_extension": ".py",
   "mimetype": "text/x-python",
   "name": "python",
   "nbconvert_exporter": "python",
   "pygments_lexer": "ipython3",
   "version": "3.7.12"
  },
  "papermill": {
   "default_parameters": {},
   "duration": 13.26413,
   "end_time": "2022-10-28T13:30:53.680528",
   "environment_variables": {},
   "exception": null,
   "input_path": "__notebook__.ipynb",
   "output_path": "__notebook__.ipynb",
   "parameters": {},
   "start_time": "2022-10-28T13:30:40.416398",
   "version": "2.3.4"
  }
 },
 "nbformat": 4,
 "nbformat_minor": 5
}
